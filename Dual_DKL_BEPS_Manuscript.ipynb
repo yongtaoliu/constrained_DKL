{
  "cells": [
    {
      "cell_type": "markdown",
      "metadata": {
        "id": "YRlYq61DplJ0"
      },
      "source": [
        "# Deep kernel learning for data reconstruction and automated experiment\n",
        "\n"
      ]
    },
    {
      "cell_type": "markdown",
      "metadata": {
        "id": "8N0xCUxJp5I8"
      },
      "source": [
        "## Installation"
      ]
    },
    {
      "cell_type": "code",
      "execution_count": null,
      "metadata": {
        "colab": {
          "base_uri": "https://localhost:8080/"
        },
        "id": "TwbUxFLRcCGS",
        "outputId": "bd7fa851-2669-4c81-c81d-32583ca2eb1e"
      },
      "outputs": [],
      "source": [
        "!pip install -q gpax\n",
        "!pip install -q atomai  # we will use the atomai's utility function for preparing the input data\n",
        "!pip install sidpy\n",
        "!pip install bglib\n",
        "!pip install --upgrade gdown"
      ]
    },
    {
      "cell_type": "markdown",
      "metadata": {
        "id": "B9NOGYiEy2Q6"
      },
      "source": [
        "## Imports"
      ]
    },
    {
      "cell_type": "code",
      "execution_count": null,
      "metadata": {
        "id": "Rhw-FGD_cAQo"
      },
      "outputs": [],
      "source": [
        "from warnings import filterwarnings\n",
        "\n",
        "import numpy as np\n",
        "import matplotlib.pyplot as plt\n",
        "import math\n",
        "import os\n",
        "\n",
        "from sklearn.model_selection import train_test_split\n",
        "\n",
        "import gpax\n",
        "from atomai.utils import get_coord_grid, extract_patches_and_spectra, extract_subimages\n",
        "\n",
        "gpax.utils.enable_x64()\n",
        "filterwarnings(\"ignore\", module=\"haiku._src.data_structures\")\n",
        "import h5py\n",
        "import sidpy\n",
        "import pyUSID as usid\n",
        "from BGlib import be as belib\n",
        "# from celluloid import Camera"
      ]
    },
    {
      "cell_type": "markdown",
      "metadata": {
        "id": "egEExnWqZN4e"
      },
      "source": [
        "## Prepared data"
      ]
    },
    {
      "cell_type": "markdown",
      "metadata": {
        "id": "y3m72GfO1hji"
      },
      "source": [
        "Download training data:"
      ]
    },
    {
      "cell_type": "code",
      "execution_count": null,
      "metadata": {
        "colab": {
          "base_uri": "https://localhost:8080/"
        },
        "id": "38VRkSh6V_C5",
        "outputId": "773246f2-a5fd-4f44-9a58-a0356a2f6bfb"
      },
      "outputs": [],
      "source": [
        "!gdown https://drive.google.com/uc?id=1D5P4pxGEyk_R09k6Iwx8pTCC-z5T2SfX"
      ]
    },
    {
      "cell_type": "markdown",
      "metadata": {
        "id": "tpmXAAcm1epo"
      },
      "source": [
        "Load data into the notebook:"
      ]
    },
    {
      "cell_type": "code",
      "execution_count": null,
      "metadata": {
        "colab": {
          "base_uri": "https://localhost:8080/"
        },
        "id": "CAYgBRj9UV3D",
        "outputId": "6d5c732c-1686-4b03-8a26-8b87bf545d31"
      },
      "outputs": [],
      "source": [
        "input_file = \"/content/BEPS_1d5um_PTO_0001.h5\"\n",
        "h5_f = h5py.File(input_file, 'r+')\n",
        "sidpy.hdf.hdf_utils.print_tree(h5_f)"
      ]
    },
    {
      "cell_type": "code",
      "execution_count": null,
      "metadata": {
        "id": "kda-8kezUckm"
      },
      "outputs": [],
      "source": [
        "sho_mat = h5_f['Measurement_000/Channel_000/Raw_Data-SHO_Fit_001/Fit']\n",
        "spec_val = h5_f['Measurement_000/Channel_000/Raw_Data-SHO_Fit_000/Spectroscopic_Values']\n",
        "pos_inds = h5_f['Measurement_000/Channel_000/Position_Indices']\n",
        "pos_dim_sizes = [np.max(pos_inds[:,0])+1, np.max(pos_inds[:,1]+1)]\n",
        "topo = h5_f['Measurement_000/Channel_001/Raw_Data/']['r']\n",
        "\n",
        "sho_mat_ndim = sho_mat[:].reshape(pos_dim_sizes[0], pos_dim_sizes[1], -1)\n",
        "amp_mat_ndim = sho_mat_ndim['Amplitude [V]']\n",
        "phase_mat_ndim = sho_mat_ndim['Phase [rad]']\n",
        "fre_mat_ndim = sho_mat_ndim['Frequency [Hz]']\n",
        "q_mat_ndim = sho_mat_ndim['Quality Factor']"
      ]
    },
    {
      "cell_type": "code",
      "execution_count": null,
      "metadata": {
        "colab": {
          "base_uri": "https://localhost:8080/",
          "height": 860
        },
        "id": "M0CP4mScUgcQ",
        "outputId": "0fd982f6-dfc2-4960-d0ec-65a6aed389cb"
      },
      "outputs": [],
      "source": [
        "plt.figure()\n",
        "plt.hist(phase_mat_ndim.ravel(),bins = 100);\n",
        "\n",
        "min_ = np.min(phase_mat_ndim)\n",
        "max_ = np.max(phase_mat_ndim)\n",
        "\n",
        "pha_correct = np.where(phase_mat_ndim > 1.5, phase_mat_ndim + (min_-max_), phase_mat_ndim)\n",
        "\n",
        "pha_correct = pha_correct + np.pi-0.75\n",
        "\n",
        "plt.figure()\n",
        "plt.hist(pha_correct.reshape(-1),bins = 100);\n",
        "plt.axvline(np.pi, color ='red')\n",
        "plt.axvline(0, color ='red')"
      ]
    },
    {
      "cell_type": "code",
      "execution_count": null,
      "metadata": {
        "id": "1pGnwnZsPYX3"
      },
      "outputs": [],
      "source": [
        "#separate on field and off field\n",
        "full_spec_len = sho_mat_ndim.shape[2]\n",
        "spec_len = int(full_spec_len/2)\n",
        "pix_x, pix_y = sho_mat_ndim.shape[0], sho_mat_ndim.shape[1]\n",
        "\n",
        "amp_off_field = np.zeros((pix_x, pix_y, spec_len))\n",
        "pha_off_field = np.zeros((pix_x, pix_y, spec_len))\n",
        "fre_off_field = np.zeros((pix_x, pix_y, spec_len))\n",
        "\n",
        "amp_on_field = np.zeros((pix_x, pix_y, spec_len))\n",
        "pha_on_field = np.zeros((pix_x, pix_y, spec_len))\n",
        "fre_on_field = np.zeros((pix_x, pix_y, spec_len))\n",
        "\n",
        "v_step = np.zeros(spec_len)\n",
        "\n",
        "for i in range (spec_len):\n",
        "  amp_off_field[:,:, i] = amp_mat_ndim[:,:,2*i+1]\n",
        "  pha_off_field[:,:, i] = pha_correct[:,:,2*i+1]\n",
        "  fre_off_field[:,:, i] = fre_mat_ndim[:,:,2*i+1]/1000\n",
        "  amp_on_field[:,:, i] = amp_mat_ndim[:,:,2*i]\n",
        "  pha_on_field[:,:, i] = pha_correct[:,:,2*i]\n",
        "  fre_on_field[:,:, i] = fre_mat_ndim[:,:,2*i]/1000\n",
        "  v_step[i] = spec_val[0,2*i]\n",
        "\n",
        "pola_off_field = amp_off_field*np.cos(pha_off_field)"
      ]
    },
    {
      "cell_type": "code",
      "execution_count": null,
      "metadata": {
        "colab": {
          "base_uri": "https://localhost:8080/",
          "height": 322
        },
        "id": "g7SK5w1QbOpa",
        "outputId": "58f88475-0ca2-4e19-d6ac-c97a0703d510"
      },
      "outputs": [],
      "source": [
        "f, (ax1,ax2, ax3, ax4) = plt.subplots(1,4, figsize = (24,4))\n",
        "ax1.plot(v_step, amp_off_field.mean(axis = (0, 1)))\n",
        "ax1.set_xlabel('Voltage (V)')\n",
        "ax1.set_ylabel('Amplitude (a.u.)')\n",
        "\n",
        "ax2.plot(v_step, pha_off_field.mean(axis = (0, 1)))\n",
        "ax2.set_xlabel('Voltage (V)')\n",
        "ax2.set_ylabel('Phase (rad)')\n",
        "\n",
        "ax3.plot(v_step, fre_off_field.mean(axis = (0, 1)))\n",
        "ax3.set_xlabel('Voltage (V)')\n",
        "ax3.set_ylabel('Frequency (kHz)')\n",
        "\n",
        "ax4.plot(v_step, pola_off_field.mean(axis = (0, 1)))\n",
        "ax4.set_xlabel('Voltage (V)')\n",
        "ax4.set_ylabel('Polarization (a.u.)')"
      ]
    },
    {
      "cell_type": "code",
      "execution_count": null,
      "metadata": {
        "colab": {
          "base_uri": "https://localhost:8080/",
          "height": 450
        },
        "id": "hR9fGRf7cWpZ",
        "outputId": "666e61ac-bb83-4a7b-ce9d-8824551ec19b"
      },
      "outputs": [],
      "source": [
        "plt.imshow(amp_off_field.mean(2))"
      ]
    },
    {
      "cell_type": "code",
      "execution_count": null,
      "metadata": {
        "colab": {
          "base_uri": "https://localhost:8080/",
          "height": 350
        },
        "id": "oosZmlb2vB0s",
        "outputId": "b92d3aeb-4e87-4a36-c3ca-449809b87977"
      },
      "outputs": [],
      "source": [
        "struc_img = amp_off_field.mean(2)\n",
        "plot_pixx1 = 50; plot_pixy1 = 50\n",
        "plot_pixx2 = 20; plot_pixy2 = 20\n",
        "# Plot spectrum and image\n",
        "f, (ax1, ax2) = plt.subplots(1, 2, figsize=(9, 3))\n",
        "ax1.plot(v_step, pola_off_field[plot_pixx1, plot_pixy1], c = 'k')\n",
        "ax1.plot(v_step, pola_off_field[plot_pixx2, plot_pixy2], c = 'r')\n",
        "ax1.set_xlabel('Voltage (V)')\n",
        "ax1.set_ylabel('Polarization (a.u.)')\n",
        "\n",
        "ax2.imshow(struc_img)\n",
        "ax2.scatter(plot_pixx1, plot_pixy1, marker='x', s=100, c='k')\n",
        "ax2.scatter(plot_pixx2, plot_pixy2, marker='x', s=100, c='r')\n",
        "ax2.set_title('Structure Image')\n",
        "ax2.axis(\"off\")"
      ]
    },
    {
      "cell_type": "markdown",
      "metadata": {
        "id": "7eMPatXhjayA"
      },
      "source": [
        "Generate training inputs (image patches) and targets (spectra)\n",
        "\n"
      ]
    },
    {
      "cell_type": "code",
      "execution_count": null,
      "metadata": {
        "id": "DNFj20e1eDdF"
      },
      "outputs": [],
      "source": [
        "norm_ = lambda x: (x - x.min()) / x.ptp()"
      ]
    },
    {
      "cell_type": "code",
      "execution_count": null,
      "metadata": {
        "colab": {
          "base_uri": "https://localhost:8080/"
        },
        "id": "z5lM58v4J69b",
        "outputId": "dbe5664d-335b-4679-fd2a-0d198dda9c14"
      },
      "outputs": [],
      "source": [
        "img = norm_(struc_img)\n",
        "spectra = norm_(pola_off_field)\n",
        "\n",
        "coordinates = get_coord_grid(img, step = 1, return_dict=False)\n",
        "\n",
        "# extract subimage for each point on a grid\n",
        "window_size = 16\n",
        "features_all, coords, _ = extract_subimages(img, coordinates, window_size)\n",
        "features_all = features_all[:,:,:,0]\n",
        "coords = np.array(coords, dtype=int)\n",
        "\n",
        "print(coords.shape)\n",
        "print(features_all.shape)\n",
        "print(spectra.shape)"
      ]
    },
    {
      "cell_type": "code",
      "execution_count": null,
      "metadata": {
        "colab": {
          "base_uri": "https://localhost:8080/",
          "height": 590
        },
        "id": "jRG3xswrKfXj",
        "outputId": "0fd663a2-1dfa-4a87-b033-bd8734956d81"
      },
      "outputs": [],
      "source": [
        "#Plot an example patch and spectrum\n",
        "k = 100\n",
        "\n",
        "f, (ax1, ax2, ax3) = plt.subplots(1, 3, figsize=(9, 3), dpi =200)\n",
        "ax1.imshow(img)\n",
        "ax1.scatter(coords[k, 1], coords[k, 0], marker='x', s=50, c='k')\n",
        "\n",
        "ax1.axis(\"off\")\n",
        "ax2.imshow(features_all[k])\n",
        "ax2.axis(\"off\")\n",
        "ax3.plot(v_step, spectra[coords[k, 0], coords[k, 1]])"
      ]
    },
    {
      "cell_type": "code",
      "execution_count": null,
      "metadata": {
        "colab": {
          "base_uri": "https://localhost:8080/",
          "height": 482
        },
        "id": "kfK15QQBL-Mk",
        "outputId": "80899fee-2250-4474-c861-090683fbbcd8"
      },
      "outputs": [],
      "source": [
        "targets = spectra[coords[:, 0], coords[:, 1]]\n",
        "print('target spectra shape: ', targets.shape)\n",
        "print('image patch shape: ', features_all.shape)\n",
        "# check if the spectra target is correct\n",
        "plt.imshow(targets.reshape(img.shape[0]-window_size+1, img.shape[1]-window_size+1, -1).mean(2), origin = \"lower\")"
      ]
    },
    {
      "cell_type": "markdown",
      "metadata": {
        "id": "pse4bz08ji_w"
      },
      "source": [
        "Normalize data:"
      ]
    },
    {
      "cell_type": "code",
      "execution_count": null,
      "metadata": {
        "id": "D6j89EEl0nTx"
      },
      "outputs": [],
      "source": [
        "features, targets = norm_(features_all), norm_(targets)"
      ]
    },
    {
      "cell_type": "markdown",
      "metadata": {
        "id": "anfR3ms8ZYhq"
      },
      "source": [
        "### Scalarizer\n",
        "Next, we select a scalarizer function that will convert a measured spectrum into a scalar physical descriptor."
      ]
    },
    {
      "cell_type": "code",
      "execution_count": null,
      "metadata": {
        "id": "_u-v0hQwA4le"
      },
      "outputs": [],
      "source": [
        "def loop_area (raw_spec, cycle) :\n",
        "  raw_spec_len = len(raw_spec)\n",
        "  cycle_len = int(raw_spec_len / cycle)\n",
        "  half_len = int(cycle_len / 2)\n",
        "  q_len = int(cycle_len / 4)\n",
        "  loop_top, loop_bottom = [], []\n",
        "  loop_top.append(raw_spec[q_len : q_len + half_len])\n",
        "  loop_top.append(raw_spec[q_len + 2*half_len : q_len + 3*half_len])\n",
        "  loop_top.append(raw_spec[q_len + 4*half_len : 2*q_len + 4*half_len])\n",
        "  loop_bottom.append(raw_spec[:q_len])\n",
        "  loop_bottom.append(raw_spec[q_len + half_len: q_len + 2*half_len])\n",
        "  loop_bottom.append(raw_spec[q_len + 3*half_len: q_len + 4*half_len])\n",
        "  loop_top = np.concatenate(loop_top)\n",
        "  loop_bottom = np.concatenate(loop_bottom)\n",
        "  return np.abs(np.sum(loop_top)-np.sum(loop_bottom))"
      ]
    },
    {
      "cell_type": "code",
      "execution_count": null,
      "metadata": {
        "colab": {
          "base_uri": "https://localhost:8080/",
          "height": 408
        },
        "id": "nCu0VYT0S5Zi",
        "outputId": "60639fd3-9cca-471f-c1f7-561cc3ee79de"
      },
      "outputs": [],
      "source": [
        "# First way to extract scalarizer\n",
        "loop_areas_all, features_all, indices_all = [], [], []\n",
        "for i, t in enumerate(targets):\n",
        "    looparea = loop_area(t, 3)\n",
        "    loop_areas_all.append(np.array([looparea]))\n",
        "    features_all.append(features[i])\n",
        "    indices_all.append(coords[i])\n",
        "loop_areas_all = np.concatenate(loop_areas_all)\n",
        "features_all = np.array(features_all)\n",
        "indices_all = np.array(indices_all)\n",
        "\n",
        "# Plot the scalarized target value\n",
        "fig, (ax1, ax2) = plt.subplots(1, 2, figsize = (10, 4))\n",
        "ax1.scatter(indices_all[:, 1], indices_all[:, 0], c=loop_areas_all)\n",
        "ax1.set_title('Loop Area')\n",
        "ax1.set_aspect('equal')\n",
        "\n",
        "ax2.imshow(struc_img, origin = \"lower\")\n",
        "ax2.set_title('Structure Image')\n",
        "ax2.axis(\"off\")"
      ]
    },
    {
      "cell_type": "markdown",
      "metadata": {
        "id": "N-pM3h6JiP4B"
      },
      "source": [
        "## Reconstruction from partial data\n",
        "Here we demonstrate how to use DKL to learn a correlative structure-property relationship from a relatively small number of image-(scalarized)spectrum pairs and then use the trained model to predict a targeted physical property for the entire image space."
      ]
    },
    {
      "cell_type": "markdown",
      "metadata": {
        "id": "Bvif-dhCaD7U"
      },
      "source": [
        "Prepare data:"
      ]
    },
    {
      "cell_type": "code",
      "execution_count": null,
      "metadata": {
        "colab": {
          "base_uri": "https://localhost:8080/"
        },
        "id": "VNnP9jFg0t3S",
        "outputId": "6b6de123-baf1-447f-ea3f-dd1ef0a9876f"
      },
      "outputs": [],
      "source": [
        "n, d1, d2 = features_all.shape\n",
        "X = features_all.reshape(n, d1*d2)\n",
        "y = norm_(loop_areas_all)\n",
        "X.shape, y.shape"
      ]
    },
    {
      "cell_type": "markdown",
      "metadata": {
        "id": "rOP2WywLefsc"
      },
      "source": [
        "Split the data in such a way that we use only a relatively small part of data (to the left of the vertical dashed line in the figure below) to train a DKL model and then use the trained model to make a prediction of the \"unmeasured\" plasmon peak values (the part to the right of the vertical dashed line):"
      ]
    },
    {
      "cell_type": "code",
      "execution_count": null,
      "metadata": {
        "colab": {
          "base_uri": "https://localhost:8080/",
          "height": 452
        },
        "id": "9aey5Pi-eens",
        "outputId": "e768452f-8a6d-4da3-a037-285fa5458ddc"
      },
      "outputs": [],
      "source": [
        "split_ = 15\n",
        "X_train = X[indices_all[:, 0] < split_]\n",
        "y_train = y[indices_all[:, 0] < split_]\n",
        "indices_train = indices_all[indices_all[:, 0] < split_]\n",
        "\n",
        "_, ax = plt.subplots(dpi=100)\n",
        "ax.scatter(indices_all[:, 1], indices_all[:, 0], s=50, c=y)\n",
        "ax.hlines(split_, indices_all[:, 1].min(), indices_all[:, 1].max(), linestyle='--', color='w')\n",
        "ax.set_title('Loop Area');\n",
        "ax.set_aspect('equal')"
      ]
    },
    {
      "cell_type": "markdown",
      "metadata": {
        "id": "m2-UfRVk7ARV"
      },
      "source": [
        "Initialize and train a DKL model:"
      ]
    },
    {
      "cell_type": "code",
      "execution_count": null,
      "metadata": {
        "colab": {
          "base_uri": "https://localhost:8080/"
        },
        "id": "KHvaB6xH0e-b",
        "outputId": "9524c8d1-232a-4d16-fcf2-6f2b02d9b290"
      },
      "outputs": [],
      "source": [
        "data_dim = X_train.shape[-1]\n",
        "\n",
        "key1, key2 = gpax.utils.get_keys()\n",
        "\n",
        "dkl = gpax.viDKL(data_dim, z_dim=2, kernel='RBF')\n",
        "dkl.fit(key1, X_train, y_train, num_steps=100, step_size=0.05)"
      ]
    },
    {
      "cell_type": "markdown",
      "metadata": {
        "id": "bF__ldsB8fFM"
      },
      "source": [
        "Use the trained model to make a probabilsitic prediction for all the image patches:"
      ]
    },
    {
      "cell_type": "markdown",
      "metadata": {
        "id": "7qe-4kVCk7GO"
      },
      "source": [
        "Visualize predictive mean and uncertainty:"
      ]
    },
    {
      "cell_type": "code",
      "execution_count": null,
      "metadata": {
        "colab": {
          "base_uri": "https://localhost:8080/",
          "height": 429
        },
        "id": "OE_kChBz4_ey",
        "outputId": "afdffae6-35a4-4382-b783-f89f646148c8"
      },
      "outputs": [],
      "source": [
        "mean, var = dkl.predict(key2, X)\n",
        "\n",
        "fig, (ax1, ax2) = plt.subplots(1, 2, figsize=(10, 4.5), dpi=100)\n",
        "ax1.scatter(indices_all[:, 1], indices_all[:, 0], s=50, c=mean)\n",
        "ax1.set_title(\"DKL prediction\")\n",
        "ax2.scatter(indices_all[:, 1], indices_all[:, 0], s=50, c=var)\n",
        "ax2.set_title(\"DKL uncertainty\")\n",
        "for _ax in fig.axes:\n",
        "    _ax.set_aspect('equal')"
      ]
    },
    {
      "cell_type": "markdown",
      "metadata": {
        "id": "mKlW9R72lWJs"
      },
      "source": [
        "We can also visualize the latent/embedding space:"
      ]
    },
    {
      "cell_type": "code",
      "execution_count": null,
      "metadata": {
        "colab": {
          "base_uri": "https://localhost:8080/",
          "height": 385
        },
        "id": "56dO8Krs-dj3",
        "outputId": "8dab4498-1bb8-4c5a-e6b2-8175d3e69803"
      },
      "outputs": [],
      "source": [
        "embeded = dkl.embed(X)\n",
        "embeded = embeded / embeded.max()\n",
        "\n",
        "_, (ax1, ax2) = plt.subplots(1, 2, figsize=(10, 4))\n",
        "ax1.scatter(indices_all[:, 1], indices_all[:, 0], c=embeded[:, 0], cmap='RdBu')\n",
        "ax2.scatter(indices_all[:, 1], indices_all[:, 0], c=embeded[:, 1], cmap='RdBu')"
      ]
    },
    {
      "cell_type": "markdown",
      "metadata": {
        "id": "me2CwL18iUQ8"
      },
      "source": [
        "## Active learning\n",
        "Now we are going to use DKL to actively learn (local) structures where a particular physical behavior or property (here, plasmon resonance peak) is maximized. Starting with just a few \"measured\" point, we use DKL to obtain predictive mean and variance for our property of interest over the entire parameter space, and then use them to compute the upper confedence bound (UCB) acquisition function for sampling the next measurement point."
      ]
    },
    {
      "cell_type": "markdown",
      "metadata": {
        "id": "WsigxGPWEI5a"
      },
      "source": [
        "Prepare the data"
      ]
    },
    {
      "cell_type": "code",
      "execution_count": null,
      "metadata": {
        "colab": {
          "base_uri": "https://localhost:8080/"
        },
        "id": "JsqZ509dUN3L",
        "outputId": "4b4fca1e-c836-4e73-af8f-ec01eb111b3a"
      },
      "outputs": [],
      "source": [
        "n, d1, d2 = features_all.shape\n",
        "X = features_all.reshape(n, d1*d2)\n",
        "y = norm_(loop_areas_all)\n",
        "\n",
        "exploration_steps = 200\n",
        "testsize = 5\n",
        "\n",
        "X.shape, y.shape\n"
      ]
    },
    {
      "cell_type": "markdown",
      "metadata": {
        "id": "Ht5nyGNsEKZ_"
      },
      "source": [
        "Get the initial measurements aka training points. Here ```X_measured``` are the already measured points, that is, the image patches for which there are measured spectra, whose scalarized values are stored in ```y_measured```. The ```X_unmeasured``` are unmeasured points, that is, image patches for which there are yet no measured spectra."
      ]
    },
    {
      "cell_type": "code",
      "execution_count": null,
      "metadata": {
        "colab": {
          "base_uri": "https://localhost:8080/"
        },
        "id": "jrPrmYR65aF8",
        "outputId": "35bc7451-f63b-403d-acf8-e8062e18bded"
      },
      "outputs": [],
      "source": [
        "# use only 0.02% of grid data points as initial training points\n",
        "(X_measured, X_unmeasured, y_measured, y_unmeasured,\n",
        "  indices_measured, indices_unmeasured) = train_test_split(\n",
        "      X, y, indices_all, test_size=1-testsize/len(X), shuffle=True, random_state=1)\n",
        "\n",
        "seed_points = len(X_measured)\n",
        "seed_points"
      ]
    },
    {
      "cell_type": "code",
      "execution_count": null,
      "metadata": {
        "colab": {
          "base_uri": "https://localhost:8080/",
          "height": 385
        },
        "id": "7253PSlRX5vY",
        "outputId": "a6d6d06a-e161-4d50-bbb1-42b170fb0987"
      },
      "outputs": [],
      "source": [
        "plt.figure(figsize=(4, 4))\n",
        "plt.imshow(struc_img, origin = \"lower\", cmap = \"gray\")\n",
        "plt.scatter(indices_measured[:, 1], indices_measured[:, 0], s=50, c=y_measured, cmap = 'jet')"
      ]
    },
    {
      "cell_type": "markdown",
      "metadata": {
        "id": "gphSs8wZ4LKs"
      },
      "source": [
        "Do sample exploration based on the pre-acquired data (i.e., we are running a \"dummy\" experiment):"
      ]
    },
    {
      "cell_type": "code",
      "execution_count": null,
      "metadata": {
        "id": "o4sWE3apFtnw"
      },
      "outputs": [],
      "source": [
        "def plot_result(indices, obj):\n",
        "    plt.figure(figsize = (4, 4))\n",
        "    plt.scatter(indices[:, 1], indices[:, 0], s=10, c=obj)\n",
        "    next_point = indices[obj.argmax()]\n",
        "    plt.scatter(next_point[1], next_point[0], s=10, marker='x', c='k')\n",
        "    plt.xticks([])\n",
        "    plt.yticks([])\n",
        "    plt.title(\"Acquisition Values\")\n",
        "    plt.show()"
      ]
    },
    {
      "cell_type": "code",
      "execution_count": null,
      "metadata": {
        "colab": {
          "base_uri": "https://localhost:8080/",
          "height": 1000
        },
        "id": "g-MX7N6F4LKs",
        "outputId": "1f938d7b-4f1f-4b08-cd29-279a57df1e63"
      },
      "outputs": [],
      "source": [
        "data_dim = X_measured.shape[-1]\n",
        "\n",
        "key1, key2 = gpax.utils.get_keys()\n",
        "for e in range(exploration_steps):\n",
        "    print(\"{}/{}\".format(e+1, exploration_steps))\n",
        "    # update GP posterior\n",
        "    dkl = gpax.viDKL(data_dim, 2)\n",
        "    dkl.fit(  # you may decrease step size and increase number of steps (e.g. to 0.005 and 1000) for more stable performance\n",
        "        key1, X_measured, y_measured, num_steps=200, step_size=0.01)\n",
        "    # Compute UCB acquisition function\n",
        "    obj = gpax.acquisition.UCB(key2, dkl, X_unmeasured)\n",
        "    # Select next point to \"measure\"\n",
        "    next_point_idx = obj.argmax()\n",
        "    # Do \"measurement\"\n",
        "    measured_point = y_unmeasured[next_point_idx]\n",
        "    # Plot current result\n",
        "    plot_result(indices_unmeasured, obj)\n",
        "    np.savez(\"singleDKL_step{}.npz\".format(e), next_point_idx = next_point_idx, obj = obj, X_measured = X_measured,\n",
        "             X_unmeasured = X_unmeasured, y_measured = y_measured, y_unmeasured = y_unmeasured,\n",
        "             indices_measured = indices_measured, indices_unmeasured = indices_unmeasured)\n",
        "    # Update the arrays of measured/unmeasured points\n",
        "    X_measured = np.append(X_measured, X_unmeasured[next_point_idx][None], 0)\n",
        "    X_unmeasured = np.delete(X_unmeasured, next_point_idx, 0)\n",
        "    y_measured = np.append(y_measured, measured_point)\n",
        "    y_unmeasured = np.delete(y_unmeasured, next_point_idx)\n",
        "    indices_measured = np.append(indices_measured, indices_unmeasured[next_point_idx][None], 0)\n",
        "    indices_unmeasured = np.delete(indices_unmeasured, next_point_idx, 0)"
      ]
    },
    {
      "cell_type": "code",
      "execution_count": null,
      "metadata": {
        "colab": {
          "base_uri": "https://localhost:8080/",
          "height": 872
        },
        "id": "bcuGIhxQ4lRK",
        "outputId": "8be3bd29-1bbd-47d8-bd15-91cae6e0d4fd"
      },
      "outputs": [],
      "source": [
        "plt.figure(dpi = 200)\n",
        "plt.imshow(img, origin=\"lower\", cmap='gray')\n",
        "plt.scatter(indices_measured[seed_points:, 1], indices_measured[seed_points:, 0],\n",
        "            c=np.arange(len(indices_measured[seed_points:])), s=50, cmap=\"Reds\")\n",
        "plt.colorbar(label=\"Iteration\")\n",
        "plt.title(\"Single DKL Observations\")\n",
        "plt.xticks([])\n",
        "plt.yticks([])"
      ]
    },
    {
      "cell_type": "markdown",
      "metadata": {
        "id": "3bOB0EwY6F2N"
      },
      "source": [
        "Overlay with a 'ground truth':"
      ]
    },
    {
      "cell_type": "code",
      "execution_count": null,
      "metadata": {
        "colab": {
          "base_uri": "https://localhost:8080/",
          "height": 539
        },
        "id": "qFnRsp43nM4F",
        "outputId": "6b8706fc-766d-4fff-dc5f-fd3b54677d07"
      },
      "outputs": [],
      "source": [
        "plt.figure(figsize=(8, 6))\n",
        "plt.scatter(indices_all[:, 1], indices_all[:, 0], c=y, cmap='bwr', alpha=0.3)\n",
        "plt.scatter(indices_measured[seed_points:, 1], indices_measured[seed_points:, 0],\n",
        "            c=np.arange(len(indices_measured[seed_points:])), s=50, cmap=\"jet\")\n",
        "plt.colorbar()"
      ]
    },
    {
      "cell_type": "code",
      "execution_count": null,
      "metadata": {
        "colab": {
          "base_uri": "https://localhost:8080/",
          "height": 792
        },
        "id": "Cyq1oIosEuvp",
        "outputId": "f05f8150-5f8b-4c4c-8987-f582381e0961"
      },
      "outputs": [],
      "source": [
        "dkl1 = dkl\n",
        "mean1, var1 = dkl.predict(key2, X)\n",
        "\n",
        "fig, (ax1, ax2) = plt.subplots(1, 2, figsize=(10, 4.5), dpi=200)\n",
        "ax1.imshow(mean1.reshape((65,65)), origin = 'lower')\n",
        "ax1.set_title(\"Prediction\")\n",
        "ax2.imshow(var1.reshape((65,65)), origin = 'lower')\n",
        "ax2.set_title(\"Uncertainty\")\n",
        "for _ax in fig.axes:\n",
        "    _ax.set_aspect('equal')\n",
        "    _ax.set_xticks([])\n",
        "    _ax.set_yticks([])"
      ]
    },
    {
      "cell_type": "markdown",
      "metadata": {
        "id": "bnuHyBHl2PH3"
      },
      "source": [
        "Add constrain"
      ]
    },
    {
      "cell_type": "code",
      "execution_count": null,
      "metadata": {
        "colab": {
          "base_uri": "https://localhost:8080/"
        },
        "id": "yXBLsIFU4MBM",
        "outputId": "a5fb3f24-2dcb-4b2d-b0b5-6dc075fbb494"
      },
      "outputs": [],
      "source": [
        "img = spectra.mean(2)\n",
        "coordinates = get_coord_grid(img, step = 1, return_dict=False)\n",
        "\n",
        "# extract subimage for each point on a grid\n",
        "features_all, coords, _ = extract_subimages(img, coordinates, window_size)\n",
        "features_all = features_all[:,:,:,0]\n",
        "coords = np.array(coords, dtype=int)\n",
        "indices_all = np.array(coords, dtype=int)\n",
        "\n",
        "print(coords.shape)\n",
        "print(features_all.shape)\n",
        "print(spectra.shape)"
      ]
    },
    {
      "cell_type": "code",
      "execution_count": null,
      "metadata": {
        "colab": {
          "base_uri": "https://localhost:8080/",
          "height": 665
        },
        "id": "QyUT28Hqv6RZ",
        "outputId": "ad7d1413-8f3f-4f5e-868c-b038cd8142d6"
      },
      "outputs": [],
      "source": [
        "#Plot an example patch and spectrum\n",
        "k = 100; k1 = 2365; k2 = 3569\n",
        "\n",
        "f, (ax1, ax3) = plt.subplots(1, 2, figsize=(8, 3), dpi =200)\n",
        "ax1.imshow(img, origin = \"lower\")\n",
        "ax1.set_title(\"Structure Image\")\n",
        "ax1.scatter(coords[k, 1], coords[k, 0], marker='x', s=50, c='black')\n",
        "ax1.scatter(coords[k1, 1], coords[k1, 0], marker='x', s=50, c='red')\n",
        "ax1.scatter(coords[k2, 1], coords[k2, 0], marker='x', s=50, c='orange')\n",
        "ax1.set_xticks([])\n",
        "ax1.set_yticks([])\n",
        "ax3.plot(v_step, spectra[coords[k, 0], coords[k, 1]], c = 'black')\n",
        "ax3.plot(v_step, spectra[coords[k1, 0], coords[k1, 1]], c = 'red')\n",
        "ax3.plot(v_step, spectra[coords[k2, 0], coords[k2, 1]], c = 'orange')\n",
        "ax3.set_xlabel(\"Voltage (V)\")\n",
        "ax3.set_ylabel(\"Piezoresponse (a.u.)\")\n",
        "ax3.set_title(\"Representative Spectra\")"
      ]
    },
    {
      "cell_type": "code",
      "execution_count": null,
      "metadata": {
        "id": "M8UtYzv2P3K5"
      },
      "outputs": [],
      "source": [
        "ref_spec = spectra[coords[k, 0], coords[k, 1]]"
      ]
    },
    {
      "cell_type": "code",
      "execution_count": null,
      "metadata": {
        "colab": {
          "base_uri": "https://localhost:8080/",
          "height": 482
        },
        "id": "I2DM1kCD4axz",
        "outputId": "bf8d87b6-c0c2-4d89-c523-64be9ce79228"
      },
      "outputs": [],
      "source": [
        "targets = spectra[coords[:, 0], coords[:, 1]]\n",
        "print('target spectra shape: ', targets.shape)\n",
        "print('image patch shape: ', features_all.shape)\n",
        "#check if the spectra target is correct\n",
        "plt.imshow(targets.reshape(img.shape[0]-window_size+1, img.shape[1]-window_size+1, -1).mean(2), origin = \"lower\")"
      ]
    },
    {
      "cell_type": "code",
      "execution_count": null,
      "metadata": {
        "id": "231fylpj4fNa"
      },
      "outputs": [],
      "source": [
        "# Normalize data\n",
        "features, targets = norm_(features_all), norm_(targets)"
      ]
    },
    {
      "cell_type": "code",
      "execution_count": null,
      "metadata": {
        "colab": {
          "base_uri": "https://localhost:8080/",
          "height": 1000
        },
        "id": "sNf2CKMvSzQW",
        "outputId": "67582fd3-6d4a-40e4-aafc-feed6cc4a7af"
      },
      "outputs": [],
      "source": [
        "# Test ssim\n",
        "from skimage.metrics import structural_similarity as ssim\n",
        "for i in range (30):\n",
        "  req_spec = targets[i*100]\n",
        "  plt.plot(v_step, norm_(ref_spec))\n",
        "  plt.plot(v_step, norm_(req_spec))\n",
        "  ss = ssim(norm_(ref_spec), norm_(req_spec), win_size = 21)\n",
        "  print('SSIM = ', ss)\n",
        "  plt.show()"
      ]
    },
    {
      "cell_type": "code",
      "execution_count": null,
      "metadata": {
        "colab": {
          "base_uri": "https://localhost:8080/",
          "height": 653
        },
        "id": "m9M4dThEXuVq",
        "outputId": "e27653c1-bc09-4b6b-b0c9-a8a179ac8e6d"
      },
      "outputs": [],
      "source": [
        "f, ax3 = plt.subplots(figsize=(4, 3.2), dpi =200)\n",
        "ax3.plot(v_step, norm_(ref_spec), c = 'black', label = \"Reference\")\n",
        "ax3.plot(v_step, norm_(targets[500]), c = 'red', label = \"Target 1, Quality Score = 0.87\")\n",
        "ax3.plot(v_step, norm_(targets[2600]), c = 'orange', label = \"Target 2, Quality Score = -0.11\")\n",
        "ax3.set_xlabel(\"Voltage (V)\")\n",
        "ax3.set_ylabel(\"Piezoresponse (a.u.)\")\n",
        "ax3.set_ylim([-0.05, 1.3])\n",
        "ax3.legend(loc = 1)"
      ]
    },
    {
      "cell_type": "code",
      "execution_count": null,
      "metadata": {
        "colab": {
          "base_uri": "https://localhost:8080/",
          "height": 452
        },
        "id": "edW5Xj1lasBt",
        "outputId": "bfcab9f6-e478-4c5e-d20f-86adf8b9657d"
      },
      "outputs": [],
      "source": [
        "# Calculate all targets ssim\n",
        "\n",
        "def cal_ssim (req_spec, ref_spec):\n",
        "  ssims = []\n",
        "  win_s = 21\n",
        "  if len(req_spec.shape)==1:\n",
        "    ss = ssim(norm_(ref_spec), norm_(req_spec), win_size = win_s)\n",
        "    ssims.append(ss)\n",
        "  else:\n",
        "    for i in range (req_spec.shape[0]):\n",
        "      ss = ssim(norm_(ref_spec), norm_(req_spec[i]), win_size = 21)\n",
        "      ssims.append(ss)\n",
        "  return np.asarray(ssims)\n",
        "\n",
        "ssims = cal_ssim(targets, ref_spec)\n",
        "\n",
        "#check the targets ssims\n",
        "plt.imshow(ssims.reshape(img.shape[0]-window_size+1, img.shape[1]-window_size+1), origin = \"lower\")\n",
        "plt.colorbar()"
      ]
    },
    {
      "cell_type": "markdown",
      "metadata": {
        "id": "v79cTqsoO7tu"
      },
      "source": [
        "## Active learning\n",
        "Now we are going to use DKL to actively learn (local) structures where a particular physical behavior or property (here, plasmon resonance peak) is maximized. Starting with just a few \"measured\" point, we use DKL to obtain predictive mean and variance for our property of interest over the entire parameter space, and then use them to compute the upper confedence bound (UCB) acquisition function for sampling the next measurement point."
      ]
    },
    {
      "cell_type": "code",
      "execution_count": null,
      "metadata": {
        "colab": {
          "base_uri": "https://localhost:8080/"
        },
        "id": "QCa02L6jO_cx",
        "outputId": "99326300-d4e9-4004-cb1d-3d69389daf47"
      },
      "outputs": [],
      "source": [
        "# Prepare the data\n",
        "n, d1, d2 = features_all.shape\n",
        "X = features_all.reshape(n, d1*d2)\n",
        "y = norm_(loop_areas_all)\n",
        "X.shape, y.shape"
      ]
    },
    {
      "cell_type": "markdown",
      "metadata": {
        "id": "8OxOMwj-PHey"
      },
      "source": [
        "Get the initial measurements aka training points. Here ```X_measured``` are the already measured points, that is, the image patches for which there are measured spectra, whose scalarized values are stored in ```y_measured```. The ```X_unmeasured``` are unmeasured points, that is, image patches for which there are yet no measured spectra."
      ]
    },
    {
      "cell_type": "code",
      "execution_count": null,
      "metadata": {
        "colab": {
          "base_uri": "https://localhost:8080/"
        },
        "id": "DNWhOLgSPMG-",
        "outputId": "98a0b195-950c-4b09-cb0f-c7911c578507"
      },
      "outputs": [],
      "source": [
        "testsize = 5\n",
        "# use only 0.02% of grid data points as initial training points\n",
        "(X_measured, X_unmeasured, y_measured, y_unmeasured, idx_train, idx_test,\n",
        "  indices_measured, indices_unmeasured, targets_measured, targets_unmeasured) = train_test_split(\n",
        "      X, y, np.arange(len(y)), indices_all, targets, test_size=1-testsize/len(X), shuffle=True, random_state=1)\n",
        "\n",
        "seed_points = len(X_measured)\n",
        "seed_points"
      ]
    },
    {
      "cell_type": "code",
      "execution_count": null,
      "metadata": {
        "colab": {
          "base_uri": "https://localhost:8080/",
          "height": 385
        },
        "id": "dPNjuu60PQcs",
        "outputId": "aa22c68c-cad1-42f2-b65e-2d9db57d3d69"
      },
      "outputs": [],
      "source": [
        "plt.figure(figsize=(4, 4))\n",
        "plt.scatter(indices_measured[:, 1], indices_measured[:, 0], s=50, c=y_measured)"
      ]
    },
    {
      "cell_type": "code",
      "execution_count": null,
      "metadata": {
        "colab": {
          "base_uri": "https://localhost:8080/",
          "height": 385
        },
        "id": "iIgPOQVuckgG",
        "outputId": "838c506a-836e-47a6-963a-271ed3f69b63"
      },
      "outputs": [],
      "source": [
        "# calculate ssim of seed targets\n",
        "ssims_measured = cal_ssim(targets_measured, ref_spec)\n",
        "plt.figure(figsize=(4, 4))\n",
        "plt.scatter(indices_measured[:, 1], indices_measured[:, 0], s=50, c=ssims_measured)"
      ]
    },
    {
      "cell_type": "code",
      "execution_count": null,
      "metadata": {
        "id": "5w8q9LiJgC2Y"
      },
      "outputs": [],
      "source": [
        "# Define a function to use DKL to predict constrains based on measured targets\n",
        "def update_constrain(X_m, Constrain_measured, XALL, idx_all):\n",
        "  k1, k2 = gpax.utils.get_keys()\n",
        "  norm_(Constrain_measured)\n",
        "  dkl_constrain = gpax.viDKL(data_dim, 2)\n",
        "  dkl_constrain.fit(k1, X_m, Constrain_measured, num_steps=200, step_size=0.01)\n",
        "  mean, var = dkl_constrain.predict(k2, XALL)\n",
        "  plt.figure(figsize = (4,4), dpi = 200)\n",
        "  plt.title(\"2nd GP Prediction\")\n",
        "  plt.scatter(idx_all[:,1], idx_all[:,0], s=10, c = mean, cmap = 'bwr')\n",
        "  plt.xticks([])\n",
        "  plt.yticks([])\n",
        "  plt.show()\n",
        "\n",
        "  return mean"
      ]
    },
    {
      "cell_type": "code",
      "execution_count": null,
      "metadata": {
        "id": "uqW-gfdfRHdt"
      },
      "outputs": [],
      "source": [
        "def interven (constrain_score, acq, X_train, y_train, indices_train,\n",
        "              idx_train, idx_test, interven_percent=0.2):\n",
        "  # Determine space, where the noise is above interven_percent level, to remove\n",
        "  idx_for_filterout = np.where(constrain_score < np.quantile(constrain_score, interven_percent))[0]\n",
        "  # Check if points in train set are from this space\n",
        "  try:\n",
        "    train_filterout_idx = np.where(np.isin(idx_train, idx_for_filterout))[0]\n",
        "  except:\n",
        "    train_filterout_idx = None\n",
        "  # Remove points from train set\n",
        "  if train_filterout_idx is not None:\n",
        "    X_train_update = np.delete(X_train, train_filterout_idx, 0)\n",
        "    y_train_update = np.delete(y_train, train_filterout_idx, 0)\n",
        "    indices_train_update = np.delete(indices_train, train_filterout_idx, 0)\n",
        "    idx_train_update = np.delete(idx_train, train_filterout_idx, 0)\n",
        "\n",
        "  # Adjust acquisiton\n",
        "  acq_idx_filterout = np.where(np.isin(idx_test, idx_for_filterout))[0]\n",
        "  # 1st adjusting method\n",
        "  adjust_acq_1 = acq.at[acq_idx_filterout].set(acq.min()) # set acq at removal space to 0\n",
        "  # 2nd adjusting method\n",
        "  constrain_score_testset = constrain_score[idx_test]\n",
        "  adjust_acq_2 = (acq*constrain_score_testset).at[acq_idx_filterout].set(acq.min()) # tune acq with noise, then set tuned acq at removal space to 0\n",
        "\n",
        "  return adjust_acq_1, adjust_acq_2, X_train_update, y_train_update, indices_train_update, idx_train_update"
      ]
    },
    {
      "cell_type": "code",
      "execution_count": null,
      "metadata": {
        "id": "Rpc1XzS5ZYnF"
      },
      "outputs": [],
      "source": [
        "def step_DKL(X_measured, y_measured, X_unmeasured):\n",
        "  data_dim = X_measured.shape[-1]\n",
        "  key1, key2 = gpax.utils.get_keys()\n",
        "  # update GP posterior\n",
        "  dkl = gpax.viDKL(data_dim, 2)\n",
        "  dkl.fit(key1, X_measured, y_measured, num_steps=200, step_size=0.01)\n",
        "  # Compute UCB acquisition function\n",
        "  obj = gpax.acquisition.UCB(key2, dkl, X_unmeasured)\n",
        "  return obj"
      ]
    },
    {
      "cell_type": "code",
      "execution_count": null,
      "metadata": {
        "colab": {
          "base_uri": "https://localhost:8080/",
          "height": 1000
        },
        "id": "esgQ5kQsPWmw",
        "outputId": "3ba77621-cadf-4024-8c2a-78fa1b536796"
      },
      "outputs": [],
      "source": [
        "data_dim = X_measured.shape[-1]\n",
        "\n",
        "for e in range(exploration_steps):\n",
        "    print(\"{}/{}\".format(e+1, exploration_steps))\n",
        "    if e == 0:\n",
        "      obj = step_DKL(X_measured, y_measured, X_unmeasured)\n",
        "    else:\n",
        "      obj = step_DKL(X_train_update, y_train_update, X_unmeasured)\n",
        "\n",
        "    # Calculate constrain every .. step_size\n",
        "    ssims_measured = cal_ssim(targets_measured, ref_spec)\n",
        "    constrain = update_constrain(X_measured, ssims_measured, X, indices_all)\n",
        "    (obj1, obj2, X_train_update, y_train_update,\n",
        "     indices_train_update, idx_train_update) = interven(constrain, obj, X_measured,\n",
        "                                                        y_measured, indices_measured, idx_train, idx_test)\n",
        "    # update GP posterior\n",
        "\n",
        "    print(\"Before Tune obj\")\n",
        "    plot_result(indices_unmeasured, obj)\n",
        "\n",
        "    # Select next point to \"measure\"\n",
        "    next_point_idx = obj1.argmax()\n",
        "    # Do \"measurement\"\n",
        "    measured_point = y_unmeasured[next_point_idx]\n",
        "    # Plot current result\n",
        "    print(\"After Tune obj\")\n",
        "    plot_result(indices_unmeasured, obj1)\n",
        "    np.savez(\"DualDKL_step{}.npz\".format(e), next_point_idx = next_point_idx, obj = obj, obj1 = obj1,\n",
        "             X_measured = X_measured, constrain = constrain,\n",
        "             X_unmeasured = X_unmeasured, y_measured = y_measured, y_unmeasured = y_unmeasured,\n",
        "             indices_measured = indices_measured, indices_unmeasured = indices_unmeasured,\n",
        "             idx_train = idx_train, idx_test = idx_test, targets_measured = targets_measured,\n",
        "             targets_unmeasured = targets_unmeasured)\n",
        "    # Update the arrays of measured/unmeasured points\n",
        "    X_measured = np.append(X_measured, X_unmeasured[next_point_idx][None], 0)\n",
        "    X_unmeasured = np.delete(X_unmeasured, next_point_idx, 0)\n",
        "    y_measured = np.append(y_measured, measured_point)\n",
        "    y_unmeasured = np.delete(y_unmeasured, next_point_idx)\n",
        "    indices_measured = np.append(indices_measured, indices_unmeasured[next_point_idx][None], 0)\n",
        "    indices_unmeasured = np.delete(indices_unmeasured, next_point_idx, 0)\n",
        "    idx_train = np.append(idx_train, idx_test[next_point_idx][None], 0)\n",
        "    idx_test = np.delete(idx_test, next_point_idx, 0)\n",
        "    targets_measured = np.append(targets_measured, targets_unmeasured[next_point_idx][None], 0)\n",
        "    targets_unmeasured = np.delete(targets_unmeasured, next_point_idx, 0)"
      ]
    },
    {
      "cell_type": "code",
      "execution_count": null,
      "metadata": {
        "colab": {
          "base_uri": "https://localhost:8080/",
          "height": 628
        },
        "id": "fYzJMCJ5m2Mq",
        "outputId": "241fb95f-3d98-4403-c01e-4df144d955e0"
      },
      "outputs": [],
      "source": [
        "plt.figure(dpi = 200, figsize = (4, 4))\n",
        "plt.imshow(img, origin=\"lower\", cmap='gray')\n",
        "plt.scatter(indices_measured[seed_points:, 1], indices_measured[seed_points:, 0],\n",
        "            c=np.arange(len(indices_measured[seed_points:])), s=30, cmap=\"Reds\")\n",
        "plt.colorbar(shrink = 0.8, label=\"Iteration\")\n",
        "plt.title(\"Dual DKL Observations\")\n",
        "plt.xticks([])\n",
        "plt.yticks([])"
      ]
    },
    {
      "cell_type": "code",
      "execution_count": null,
      "metadata": {
        "colab": {
          "base_uri": "https://localhost:8080/",
          "height": 539
        },
        "id": "R6NLLIExr9iX",
        "outputId": "1f9bb2ea-132e-4780-e5dc-c0206db871f0"
      },
      "outputs": [],
      "source": [
        "plt.figure(figsize=(8, 6))\n",
        "plt.scatter(indices_all[:, 1], indices_all[:, 0], c=loop_areas_all, cmap='bwr', alpha=0.3)\n",
        "plt.scatter(indices_measured[seed_points:, 1], indices_measured[seed_points:, 0],\n",
        "            c=np.arange(len(indices_measured[seed_points:])), s=50, cmap=\"jet\")\n",
        "plt.colorbar()"
      ]
    },
    {
      "cell_type": "code",
      "execution_count": null,
      "metadata": {
        "colab": {
          "base_uri": "https://localhost:8080/",
          "height": 792
        },
        "id": "lx_jnmqoEzkz",
        "outputId": "12b343ff-8b7c-46cc-fe19-566d29658bea"
      },
      "outputs": [],
      "source": [
        "mean, var = dkl.predict(key2, X)\n",
        "fig, (ax1, ax2) = plt.subplots(1, 2, figsize=(10, 4.5), dpi=200)\n",
        "ax1.imshow(mean.reshape((65,65)), origin = 'lower')\n",
        "ax1.set_title(\"Prediction\")\n",
        "ax2.imshow(var.reshape((65,65)), origin = 'lower')\n",
        "ax2.set_title(\"Uncertainty\")\n",
        "for _ax in fig.axes:\n",
        "    _ax.set_aspect('equal')\n",
        "    _ax.set_xticks([])\n",
        "    _ax.set_yticks([])\n"
      ]
    },
    {
      "cell_type": "markdown",
      "metadata": {
        "id": "kl66WF8byWHt"
      },
      "source": [
        "# Data Analysis"
      ]
    },
    {
      "cell_type": "code",
      "execution_count": null,
      "metadata": {
        "colab": {
          "base_uri": "https://localhost:8080/",
          "height": 599
        },
        "id": "tWiKtNB3CttK",
        "outputId": "69a4409e-d5f8-472a-e7bf-de946017422b"
      },
      "outputs": [],
      "source": [
        "fig, (ax1, ax2, ax3) = plt.subplots(1, 3, figsize=(15, 4.5), dpi=200)\n",
        "ax1.imshow(mean1.reshape((65,65)), origin = 'lower')\n",
        "ax1.set_title(\"Single DKL\")\n",
        "ax2.imshow(mean.reshape((65,65)), origin = 'lower')\n",
        "ax2.set_title(\"Dual DKL\")\n",
        "ax3.imshow(y.reshape((65,65)), origin = 'lower')\n",
        "ax3.set_title(\"Ground Truth\")\n",
        "for _ax in fig.axes:\n",
        "    _ax.set_aspect('equal')\n",
        "    _ax.set_xticks([])\n",
        "    _ax.set_yticks([])"
      ]
    },
    {
      "cell_type": "code",
      "execution_count": null,
      "metadata": {
        "colab": {
          "base_uri": "https://localhost:8080/",
          "height": 628
        },
        "id": "B0seUdl46Pmz",
        "outputId": "bc50e306-52e4-4905-b92b-c4c29256ccee"
      },
      "outputs": [],
      "source": [
        "plt.figure(dpi = 200, figsize = (4, 4))\n",
        "plt.imshow(norm_(mean1.reshape((65,65))), origin=\"lower\")\n",
        "plt.colorbar(shrink = 0.8, label=\"Normalized Loop Area (a.u.)\")\n",
        "plt.title(\"Single DKL\")\n",
        "plt.xticks([])\n",
        "plt.yticks([])"
      ]
    },
    {
      "cell_type": "code",
      "execution_count": null,
      "metadata": {
        "id": "w5fyL4xpbd5E"
      },
      "outputs": [],
      "source": [
        "sdkl_final = np.load(\"singleDKL_step199.npz\")\n",
        "ddkl_final = np.load('DualDKL_step199.npz')"
      ]
    },
    {
      "cell_type": "code",
      "execution_count": null,
      "metadata": {
        "id": "BTywxmdK32v-"
      },
      "outputs": [],
      "source": [
        "d_y_measured = ddkl_final['y_measured']\n",
        "s_y_measured = sdkl_final['y_measured']\n",
        "st = np.arange(199)\n",
        "\n",
        "fig, ax = plt.subplots(figsize=(4, 3.5), dpi=300)\n",
        "ax.scatter(st, s_y_measured[5:], c = 'b', label = 'Single DKL', s = 15, alpha = 0.7)\n",
        "ax.scatter(st, d_y_measured[5:], c = 'r', label = 'Dual DKL', s = 15, alpha = 0.7)\n",
        "ax.set_xlabel(\"Iteration\")\n",
        "ax.set_ylabel(\"Normalized Loop Area\")\n",
        "ax.legend()"
      ]
    },
    {
      "cell_type": "code",
      "execution_count": null,
      "metadata": {
        "id": "fayMApKs-qpy"
      },
      "outputs": [],
      "source": [
        "s_indices_measured = sdkl_final['indices_measured']\n",
        "d_indices_measured = ddkl_final['indices_measured']"
      ]
    },
    {
      "cell_type": "code",
      "execution_count": null,
      "metadata": {
        "id": "JBQKVyA14VyK"
      },
      "outputs": [],
      "source": [
        "plt.figure(dpi = 200)\n",
        "plt.imshow(img, origin=\"lower\", cmap='gray')\n",
        "plt.scatter(s_indices_measured[seed_points:, 1], s_indices_measured[seed_points:, 0],\n",
        "            c=np.arange(len(s_indices_measured[seed_points:])), s=50, cmap=\"Reds\")\n",
        "plt.colorbar(label=\"Iteration\")\n",
        "plt.title(\"Single DKL Observations\")\n",
        "plt.xticks([])\n",
        "plt.yticks([])\n",
        "\n",
        "plt.figure(dpi = 200)\n",
        "plt.imshow(img, origin=\"lower\", cmap='gray')\n",
        "plt.scatter(d_indices_measured[seed_points:, 1], d_indices_measured[seed_points:, 0],\n",
        "            c=np.arange(len(d_indices_measured[seed_points:])), s=50, cmap=\"Reds\")\n",
        "plt.colorbar(label=\"Iteration\")\n",
        "plt.title(\"Dual DKL Observations\")\n",
        "plt.xticks([])\n",
        "plt.yticks([])"
      ]
    },
    {
      "cell_type": "code",
      "execution_count": null,
      "metadata": {
        "id": "cI4RjSAd4voF"
      },
      "outputs": [],
      "source": [
        "ddkl_step = np.load('DualDKL_step25.npz')\n",
        "ddkl_step.files"
      ]
    },
    {
      "cell_type": "code",
      "execution_count": null,
      "metadata": {
        "id": "8PteNvAUCULq"
      },
      "outputs": [],
      "source": [
        "obj1 = ddkl_step['obj1']\n",
        "obj = ddkl_step['obj']\n",
        "indices_unmeasured = ddkl_step['indices_unmeasured']\n",
        "constrain = ddkl_step['constrain']"
      ]
    },
    {
      "cell_type": "code",
      "execution_count": null,
      "metadata": {
        "id": "9Qrk4NSnPTRi"
      },
      "outputs": [],
      "source": [
        "plt.figure(figsize = (5, 4), dpi = 200)\n",
        "plt.scatter(indices_unmeasured[:, 1], indices_unmeasured[:, 0],\n",
        "            c=norm_(obj), s=13, marker = \"o\")\n",
        "plt.title(\"Single GP\")\n",
        "plt.colorbar(label = \"Acquistion Value\")\n",
        "plt.xticks([])\n",
        "plt.yticks([])"
      ]
    },
    {
      "cell_type": "code",
      "execution_count": null,
      "metadata": {
        "id": "LOqGLVIEO0_Q"
      },
      "outputs": [],
      "source": [
        "plt.figure(figsize = (5, 4), dpi = 200)\n",
        "plt.scatter(indices_unmeasured[:, 1], indices_unmeasured[:, 0],\n",
        "            c=((obj1-np.nanmin(obj1))/np.nanmax(obj1))*1e10/1.92, s=13, marker = \"o\")\n",
        "plt.title(\"Dual GP\")\n",
        "plt.colorbar(label = \"Acquistion Value\")\n",
        "plt.xticks([])\n",
        "plt.yticks([])"
      ]
    },
    {
      "cell_type": "code",
      "execution_count": null,
      "metadata": {
        "id": "M79yCweePANc"
      },
      "outputs": [],
      "source": [
        "plt.figure(figsize = (5, 4), dpi = 200)\n",
        "plt.scatter(indices_all[:, 1], indices_all[:, 0],\n",
        "            c=norm_(constrain), s=13, marker = \"o\")\n",
        "plt.title(\"2nd GP Prediction\")\n",
        "plt.colorbar(label = \"Quality Score\")\n",
        "plt.xticks([])\n",
        "plt.yticks([])"
      ]
    },
    {
      "cell_type": "code",
      "execution_count": null,
      "metadata": {
        "id": "pt027IP-RuB8"
      },
      "outputs": [],
      "source": []
    }
  ],
  "metadata": {
    "accelerator": "GPU",
    "colab": {
      "gpuType": "V100",
      "machine_shape": "hm",
      "provenance": []
    },
    "kernelspec": {
      "display_name": "Python 3",
      "name": "python3"
    },
    "language_info": {
      "name": "python"
    }
  },
  "nbformat": 4,
  "nbformat_minor": 0
}
